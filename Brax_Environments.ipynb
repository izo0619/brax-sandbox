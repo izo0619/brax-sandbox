{
  "cells": [
    {
      "cell_type": "markdown",
      "metadata": {
        "id": "ssCOanHc8JH_"
      },
      "source": [
        "# Brax Environments\n",
        "\n",
        "Brax provides [Gym](https://gym.openai.com/)-like environments for training policies.  Just as in Gym, Brax environments have step and reset functions that return agent observations and rewards.  Let's try some out!"
      ]
    },
    {
      "cell_type": "code",
      "execution_count": 1,
      "metadata": {
        "id": "_sOmCoOrF0F8"
      },
      "outputs": [
        {
          "name": "stderr",
          "output_type": "stream",
          "text": [
            "/Users/isabelzhong/Downloads/xenobot/random_ant/env/lib/python3.6/site-packages/gym/core.py:27: UserWarning: \u001b[33mWARN: Gym minimally supports python 3.6 as the python foundation not longer supports the version, please update your version to 3.7+\u001b[0m\n",
            "  \"Gym minimally supports python 3.6 as the python foundation not longer supports the version, please update your version to 3.7+\"\n"
          ]
        },
        {
          "data": {
            "text/html": [
              "\n",
              "<html>\n",
              "  <head>\n",
              "    <title>brax visualizer</title>\n",
              "    <style>\n",
              "      body {\n",
              "        margin: 0;\n",
              "        padding: 0;\n",
              "      }\n",
              "      #brax-viewer {\n",
              "        margin: 0;\n",
              "        padding: 0;\n",
              "        height: 480px;\n",
              "      }\n",
              "    </style>\n",
              "  </head>\n",
              "  <body>\n",
              "    <script type=\"application/javascript\">\n",
              "    var system = {\"config\": {\"bodies\": [{\"name\": \"$ Torso\", \"colliders\": [{\"capsule\": {\"radius\": 0.25, \"length\": 0.5, \"end\": 1}, \"material\": {\"friction\": 1.0, \"elasticity\": 0.0}, \"color\": \"\", \"hidden\": false, \"noContact\": false}], \"inertia\": {\"x\": 1.0, \"y\": 1.0, \"z\": 1.0}, \"mass\": 10.0, \"frozen\": {\"position\": {\"x\": 0.0, \"y\": 0.0, \"z\": 0.0}, \"rotation\": {\"x\": 0.0, \"y\": 0.0, \"z\": 0.0}, \"all\": false}}, {\"name\": \"Aux 1\", \"colliders\": [{\"rotation\": {\"x\": 90.0, \"y\": -36.0, \"z\": 0.0}, \"capsule\": {\"radius\": 0.08, \"length\": 0.44284272, \"end\": 0}, \"material\": {\"friction\": 1.0, \"elasticity\": 0.0}, \"color\": \"\", \"hidden\": false, \"noContact\": false}], \"inertia\": {\"x\": 1.0, \"y\": 1.0, \"z\": 1.0}, \"mass\": 1.0, \"frozen\": {\"position\": {\"x\": 0.0, \"y\": 0.0, \"z\": 0.0}, \"rotation\": {\"x\": 0.0, \"y\": 0.0, \"z\": 0.0}, \"all\": false}}, {\"name\": \"$ Body 4\", \"colliders\": [{\"rotation\": {\"x\": 90.0, \"y\": -36.0, \"z\": 0.0}, \"capsule\": {\"radius\": 0.08, \"length\": 0.7256854, \"end\": -1}, \"material\": {\"friction\": 1.0, \"elasticity\": 0.0}, \"color\": \"\", \"hidden\": false, \"noContact\": false}], \"inertia\": {\"x\": 1.0, \"y\": 1.0, \"z\": 1.0}, \"mass\": 1.0, \"frozen\": {\"position\": {\"x\": 0.0, \"y\": 0.0, \"z\": 0.0}, \"rotation\": {\"x\": 0.0, \"y\": 0.0, \"z\": 0.0}, \"all\": false}}, {\"name\": \"Aux 2\", \"colliders\": [{\"rotation\": {\"x\": 90.0, \"y\": 36.0, \"z\": 0.0}, \"capsule\": {\"radius\": 0.08, \"length\": 0.44284272, \"end\": 0}, \"material\": {\"friction\": 1.0, \"elasticity\": 0.0}, \"color\": \"\", \"hidden\": false, \"noContact\": false}], \"inertia\": {\"x\": 1.0, \"y\": 1.0, \"z\": 1.0}, \"mass\": 1.0, \"frozen\": {\"position\": {\"x\": 0.0, \"y\": 0.0, \"z\": 0.0}, \"rotation\": {\"x\": 0.0, \"y\": 0.0, \"z\": 0.0}, \"all\": false}}, {\"name\": \"$ Body 7\", \"colliders\": [{\"rotation\": {\"x\": 90.0, \"y\": 36.0, \"z\": 0.0}, \"capsule\": {\"radius\": 0.08, \"length\": 0.7256854, \"end\": -1}, \"material\": {\"friction\": 1.0, \"elasticity\": 0.0}, \"color\": \"\", \"hidden\": false, \"noContact\": false}], \"inertia\": {\"x\": 1.0, \"y\": 1.0, \"z\": 1.0}, \"mass\": 1.0, \"frozen\": {\"position\": {\"x\": 0.0, \"y\": 0.0, \"z\": 0.0}, \"rotation\": {\"x\": 0.0, \"y\": 0.0, \"z\": 0.0}, \"all\": false}}, {\"name\": \"Aux 3\", \"colliders\": [{\"rotation\": {\"x\": -90.0, \"y\": 72.0, \"z\": 0.0}, \"capsule\": {\"radius\": 0.08, \"length\": 0.44284272, \"end\": 0}, \"material\": {\"friction\": 1.0, \"elasticity\": 0.0}, \"color\": \"\", \"hidden\": false, \"noContact\": false}], \"inertia\": {\"x\": 1.0, \"y\": 1.0, \"z\": 1.0}, \"mass\": 1.0, \"frozen\": {\"position\": {\"x\": 0.0, \"y\": 0.0, \"z\": 0.0}, \"rotation\": {\"x\": 0.0, \"y\": 0.0, \"z\": 0.0}, \"all\": false}}, {\"name\": \"$ Body 10\", \"colliders\": [{\"rotation\": {\"x\": -90.0, \"y\": 72.0, \"z\": 0.0}, \"capsule\": {\"radius\": 0.08, \"length\": 0.7256854, \"end\": -1}, \"material\": {\"friction\": 1.0, \"elasticity\": 0.0}, \"color\": \"\", \"hidden\": false, \"noContact\": false}], \"inertia\": {\"x\": 1.0, \"y\": 1.0, \"z\": 1.0}, \"mass\": 1.0, \"frozen\": {\"position\": {\"x\": 0.0, \"y\": 0.0, \"z\": 0.0}, \"rotation\": {\"x\": 0.0, \"y\": 0.0, \"z\": 0.0}, \"all\": false}}, {\"name\": \"Aux 4\", \"colliders\": [{\"rotation\": {\"x\": -90.0, \"y\": 0.0, \"z\": 0.0}, \"capsule\": {\"radius\": 0.08, \"length\": 0.44284272, \"end\": 0}, \"material\": {\"friction\": 1.0, \"elasticity\": 0.0}, \"color\": \"\", \"hidden\": false, \"noContact\": false}], \"inertia\": {\"x\": 1.0, \"y\": 1.0, \"z\": 1.0}, \"mass\": 1.0, \"frozen\": {\"position\": {\"x\": 0.0, \"y\": 0.0, \"z\": 0.0}, \"rotation\": {\"x\": 0.0, \"y\": 0.0, \"z\": 0.0}, \"all\": false}}, {\"name\": \"$ Body 13\", \"colliders\": [{\"rotation\": {\"x\": -90.0, \"y\": 0.0, \"z\": 0.0}, \"capsule\": {\"radius\": 0.08, \"length\": 0.7256854, \"end\": -1}, \"material\": {\"friction\": 1.0, \"elasticity\": 0.0}, \"color\": \"\", \"hidden\": false, \"noContact\": false}], \"inertia\": {\"x\": 1.0, \"y\": 1.0, \"z\": 1.0}, \"mass\": 1.0, \"frozen\": {\"position\": {\"x\": 0.0, \"y\": 0.0, \"z\": 0.0}, \"rotation\": {\"x\": 0.0, \"y\": 0.0, \"z\": 0.0}, \"all\": false}}, {\"name\": \"Aux 5\", \"colliders\": [{\"rotation\": {\"x\": -90.0, \"y\": -72.0, \"z\": 0.0}, \"capsule\": {\"radius\": 0.08, \"length\": 0.44284272, \"end\": 0}, \"material\": {\"friction\": 1.0, \"elasticity\": 0.0}, \"color\": \"\", \"hidden\": false, \"noContact\": false}], \"inertia\": {\"x\": 1.0, \"y\": 1.0, \"z\": 1.0}, \"mass\": 1.0, \"frozen\": {\"position\": {\"x\": 0.0, \"y\": 0.0, \"z\": 0.0}, \"rotation\": {\"x\": 0.0, \"y\": 0.0, \"z\": 0.0}, \"all\": false}}, {\"name\": \"$ Body 14\", \"colliders\": [{\"rotation\": {\"x\": -90.0, \"y\": -72.0, \"z\": 0.0}, \"capsule\": {\"radius\": 0.08, \"length\": 0.7256854, \"end\": -1}, \"material\": {\"friction\": 1.0, \"elasticity\": 0.0}, \"color\": \"\", \"hidden\": false, \"noContact\": false}], \"inertia\": {\"x\": 1.0, \"y\": 1.0, \"z\": 1.0}, \"mass\": 1.0, \"frozen\": {\"position\": {\"x\": 0.0, \"y\": 0.0, \"z\": 0.0}, \"rotation\": {\"x\": 0.0, \"y\": 0.0, \"z\": 0.0}, \"all\": false}}, {\"name\": \"Ground\", \"colliders\": [{\"plane\": {}, \"material\": {\"friction\": 1.0, \"elasticity\": 0.0}, \"color\": \"\", \"hidden\": false, \"noContact\": false}], \"inertia\": {\"x\": 1.0, \"y\": 1.0, \"z\": 1.0}, \"mass\": 1.0, \"frozen\": {\"position\": {\"x\": 1.0, \"y\": 1.0, \"z\": 1.0}, \"rotation\": {\"x\": 1.0, \"y\": 1.0, \"z\": 1.0}, \"all\": true}}], \"joints\": [{\"name\": \"hip_1\", \"parent\": \"$ Torso\", \"child\": \"Aux 1\", \"parentOffset\": {\"x\": 0.15, \"y\": 0.2, \"z\": 0.0}, \"childOffset\": {\"x\": -0.13, \"y\": -0.18, \"z\": 0.0}, \"rotation\": {\"y\": -90.0, \"x\": 0.0, \"z\": 0.0}, \"angularDamping\": 20.0, \"angleLimit\": [{\"min\": -30.0, \"max\": 30.0}], \"stiffness\": 0.0}, {\"name\": \"ankle_1\", \"parent\": \"Aux 1\", \"child\": \"$ Body 4\", \"parentOffset\": {\"x\": 0.13, \"y\": 0.18, \"z\": 0.0}, \"childOffset\": {\"x\": -0.21, \"y\": -0.28, \"z\": 0.0}, \"rotation\": {\"z\": 135.0, \"x\": 0.0, \"y\": 0.0}, \"angularDamping\": 20.0, \"angleLimit\": [{\"min\": 30.0, \"max\": 70.0}], \"stiffness\": 0.0}, {\"name\": \"hip_2\", \"parent\": \"$ Torso\", \"child\": \"Aux 2\", \"parentOffset\": {\"x\": -0.15, \"y\": 0.2, \"z\": 0.0}, \"childOffset\": {\"x\": 0.13, \"y\": -0.18, \"z\": 0.0}, \"rotation\": {\"y\": -90.0, \"x\": 0.0, \"z\": 0.0}, \"angularDamping\": 20.0, \"angleLimit\": [{\"min\": -30.0, \"max\": 30.0}], \"stiffness\": 0.0}, {\"name\": \"ankle_2\", \"parent\": \"Aux 2\", \"child\": \"$ Body 7\", \"parentOffset\": {\"x\": -0.13, \"y\": 0.18, \"z\": 0.0}, \"childOffset\": {\"x\": 0.21, \"y\": -0.28, \"z\": 0.0}, \"rotation\": {\"z\": 45.0, \"x\": 0.0, \"y\": 0.0}, \"angularDamping\": 20.0, \"angleLimit\": [{\"min\": -70.0, \"max\": -30.0}], \"stiffness\": 0.0}, {\"name\": \"hip_3\", \"parent\": \"$ Torso\", \"child\": \"Aux 3\", \"parentOffset\": {\"x\": -0.23, \"y\": -0.07, \"z\": 0.0}, \"childOffset\": {\"x\": 0.21, \"y\": 0.07, \"z\": 0.0}, \"rotation\": {\"y\": -90.0, \"x\": 0.0, \"z\": 0.0}, \"angularDamping\": 20.0, \"angleLimit\": [{\"min\": -30.0, \"max\": 30.0}], \"stiffness\": 0.0}, {\"name\": \"ankle_3\", \"parent\": \"Aux 3\", \"child\": \"$ Body 10\", \"parentOffset\": {\"x\": -0.21, \"y\": -0.07, \"z\": 0.0}, \"childOffset\": {\"x\": 0.34, \"y\": 0.11, \"z\": 0.0}, \"rotation\": {\"z\": 135.0, \"x\": 0.0, \"y\": 0.0}, \"angularDamping\": 20.0, \"angleLimit\": [{\"min\": -70.0, \"max\": -30.0}], \"stiffness\": 0.0}, {\"name\": \"hip_4\", \"parent\": \"$ Torso\", \"child\": \"Aux 4\", \"parentOffset\": {\"y\": -0.25, \"x\": 0.0, \"z\": 0.0}, \"childOffset\": {\"y\": 0.22, \"x\": 0.0, \"z\": 0.0}, \"rotation\": {\"y\": -90.0, \"x\": 0.0, \"z\": 0.0}, \"angularDamping\": 20.0, \"angleLimit\": [{\"min\": -30.0, \"max\": 30.0}], \"stiffness\": 0.0}, {\"name\": \"ankle_4\", \"parent\": \"Aux 4\", \"child\": \"$ Body 13\", \"parentOffset\": {\"y\": -0.22, \"x\": 0.0, \"z\": 0.0}, \"childOffset\": {\"y\": 0.36, \"x\": 0.0, \"z\": 0.0}, \"rotation\": {\"z\": 45.0, \"x\": 0.0, \"y\": 0.0}, \"angularDamping\": 20.0, \"angleLimit\": [{\"min\": 30.0, \"max\": 70.0}], \"stiffness\": 0.0}, {\"name\": \"hip_5\", \"parent\": \"$ Torso\", \"child\": \"Aux 5\", \"parentOffset\": {\"x\": 0.24, \"y\": -0.08, \"z\": 0.0}, \"childOffset\": {\"x\": -0.2, \"y\": 0.07, \"z\": 0.0}, \"rotation\": {\"y\": -90.0, \"x\": 0.0, \"z\": 0.0}, \"angularDamping\": 20.0, \"angleLimit\": [{\"min\": -30.0, \"max\": 30.0}], \"stiffness\": 0.0}, {\"name\": \"ankle_5\", \"parent\": \"Aux 5\", \"child\": \"$ Body 14\", \"parentOffset\": {\"x\": 0.2, \"y\": -0.07, \"z\": 0.0}, \"childOffset\": {\"x\": -0.34, \"y\": 0.11, \"z\": 0.0}, \"rotation\": {\"z\": 45.0, \"x\": 0.0, \"y\": 0.0}, \"angularDamping\": 20.0, \"angleLimit\": [{\"min\": 30.0, \"max\": 70.0}], \"stiffness\": 0.0}], \"actuators\": [{\"name\": \"hip_1\", \"joint\": \"hip_1\", \"strength\": 350.0, \"torque\": {}}, {\"name\": \"ankle_1\", \"joint\": \"ankle_1\", \"strength\": 350.0, \"torque\": {}}, {\"name\": \"hip_2\", \"joint\": \"hip_2\", \"strength\": 350.0, \"torque\": {}}, {\"name\": \"ankle_2\", \"joint\": \"ankle_2\", \"strength\": 350.0, \"torque\": {}}, {\"name\": \"hip_3\", \"joint\": \"hip_3\", \"strength\": 350.0, \"torque\": {}}, {\"name\": \"ankle_3\", \"joint\": \"ankle_3\", \"strength\": 350.0, \"torque\": {}}, {\"name\": \"hip_4\", \"joint\": \"hip_4\", \"strength\": 350.0, \"torque\": {}}, {\"name\": \"ankle_4\", \"joint\": \"ankle_4\", \"strength\": 350.0, \"torque\": {}}, {\"name\": \"hip_5\", \"joint\": \"hip_5\", \"strength\": 350.0, \"torque\": {}}, {\"name\": \"ankle_5\", \"joint\": \"ankle_5\", \"strength\": 350.0, \"torque\": {}}], \"friction\": 1.0, \"gravity\": {\"z\": -9.8, \"x\": 0.0, \"y\": 0.0}, \"angularDamping\": -0.05, \"collideInclude\": [{\"first\": \"$ Torso\", \"second\": \"Ground\"}, {\"first\": \"$ Body 4\", \"second\": \"Ground\"}, {\"first\": \"$ Body 7\", \"second\": \"Ground\"}, {\"first\": \"$ Body 10\", \"second\": \"Ground\"}, {\"first\": \"$ Body 13\", \"second\": \"Ground\"}, {\"first\": \"$ Body 14\", \"second\": \"Ground\"}], \"dt\": 0.05, \"substeps\": 10, \"frozen\": {\"all\": false}, \"dynamicsMode\": \"pbd\", \"solverScaleCollide\": 1.0, \"forces\": [], \"elasticity\": 0.0, \"velocityDamping\": 0.0, \"baumgarteErp\": 0.0, \"defaults\": [], \"colliderCutoff\": 0, \"meshGeometries\": []}, \"pos\": [[[0.0, 0.0, 0.5729045421913084], [0.2970307580581892, 0.366378965811239, 0.5729045421913084], [0.6036362633982841, 0.7277234110426112, 0.3299552538328796], [-0.2852337685055544, 0.3761017656149156, 0.5729045421913084], [-0.5418532052356566, 0.734685407593668, 0.3000201715733777], [-0.44566391074309575, -0.11989064762417675, 0.5729045421913084], [-0.9097672814112607, -0.16419462519317568, 0.31610379433265573], [0.005196251621064402, -0.4699386242672481, 0.5729045421913084], [-0.040139313421009015, -0.9934671754346485, 0.38614345928278027], [0.43999930425314154, -0.15000197951464733, 0.5729045421913084], [0.9050162744095319, -0.2550245890641609, 0.3357564924408016], [0.0, 0.0, 0.0]]], \"rot\": [[[1.0, 0.0, 0.0, 0.0], [0.9987934416953389, -1.0904313775359507e-17, 0.0, -0.049108663455440044], [0.9243498218475319, -0.25439487485423695, 0.2807046411688228, -0.04544842048537676], [0.9998920108287557, 3.2631241867960202e-18, 0.0, 0.01469580487171821], [0.8988483286605671, -0.3051701176811092, -0.314274335653131, 0.013210726262646369], [0.9988859457348691, -1.0478217416106803e-17, 0.0, -0.04718969605068564], [0.8907708905108772, 0.3045103203265953, -0.33470850481093584, -0.042082089305082816], [0.9999302537711504, 2.6224548257487016e-18, 0.0, 0.011810486576037811], [0.9163173950741371, 0.2796966305522269, 0.28638277004699086, 0.010822909151011497], [0.9999999999877363, -1.0996804399407702e-21, 0.0, -4.952520419543876e-06], [0.9128928430698785, 0.2886419126661931, 0.2886390536704195, -4.521120446214482e-06], [1.0, 0.0, 0.0, 0.0]]], \"debug\": false};\n",
              "    </script>\n",
              "    <div id=\"brax-viewer\"></div>\n",
              "    <script type=\"module\">\n",
              "      import {Viewer} from 'https://cdn.jsdelivr.net/gh/google/brax@v0.0.16/js/viewer.js';\n",
              "      const domElement = document.getElementById('brax-viewer');\n",
              "      var viewer = new Viewer(domElement, system);\n",
              "    </script>\n",
              "  </body>\n",
              "</html>\n"
            ],
            "text/plain": [
              "<IPython.core.display.HTML object>"
            ]
          },
          "execution_count": 1,
          "metadata": {},
          "output_type": "execute_result"
        }
      ],
      "source": [
        "#@title Import Brax and some helper modules\n",
        "\n",
        "import functools\n",
        "import time\n",
        "\n",
        "from IPython.display import HTML, Image \n",
        "import gym\n",
        "import brax\n",
        "\n",
        "from brax import envs\n",
        "from brax import jumpy as jp\n",
        "from brax.envs import to_torch\n",
        "from brax.io import html\n",
        "from brax.io import image\n",
        "import jax\n",
        "from jax import numpy as jnp\n",
        "import torch\n",
        "# v = torch.ones(1, device='cuda')  # init torch cuda before jax\n",
        "\n",
        "environment = \"ant\"  # @param ['ant', 'halfcheetah', 'hopper', 'humanoid', 'reacher', 'walker2d', 'fetch', 'grasp', 'ur5e']\n",
        "env = envs.create(env_name=environment)\n",
        "state = env.reset(rng=jp.random_prngkey(seed=0))\n",
        "\n",
        "HTML(html.render(env.sys, [state.qp]))"
      ]
    },
    {
      "cell_type": "markdown",
      "metadata": {
        "id": "Tm8zbPBcJ5RJ"
      },
      "source": [
        "In [Brax Basics](https://colab.research.google.com/github/google/brax/blob/main/notebooks/basics.ipynb) we tried out a few simple physics systems.  In order to train agents to achieve some behavior within these systems, we define an environment: a physics system, a way for the agent to observe the system, and a reward function that defines some objective.  Brax comes with many built-in environments in order to get started quickly.\n",
        "\n",
        "## OpenAI Gym Environments\n",
        "\n",
        "**[ant](https://github.com/google/brax/blob/main/brax/envs/ant.py)** from [OpenAI Gym Ant-v2](https://gym.openai.com/envs/Ant-v2/): make a four-legged creature walk forward as fast as possible\n",
        "\n",
        "**[halfcheetah](https://github.com/google/brax/blob/main/brax/envs/halfcheetah.py)** from [OpenAI Gym HalfCheetah-v2](https://gym.openai.com/envs/HalfCheetah-v2/): make a two-dimensional two-legged creature walk forward as fast as possible\n",
        "\n",
        "**[hopper](https://github.com/google/brax/blob/main/brax/envs/hopper.py)** from [OpenAI Gym Hopper-v2](https://gym.openai.com/envs/Hopper-v2/): make a two-dimensional one-legged robot hop forward as fast as possible\n",
        "\n",
        "**[humanoid](https://github.com/google/brax/blob/main/brax/envs/humanoid.py)** from [OpenAI Gym Humanoid-v2](https://gym.openai.com/envs/Humanoid-v2/): make a three-dimensional bipedal robot walk forward as fast as possible, without falling over.\n",
        "\n",
        "**[reacher](https://github.com/google/brax/blob/main/brax/envs/reacher.py)**: from [OpenAI Gym Reacher-v2](https://gym.openai.com/envs/Reacher-v2/): makes a two-joint reacher arm move its tip to a target.\n",
        "\n",
        "**[walker2d](https://github.com/google/brax/blob/main/brax/envs/walker2d.py)** from [OpenAI Gym Walker2d-v2](https://gym.openai.com/envs/Walker2d-v2/): make a two-dimensional bipedal robot walk forward as fast as possible\n",
        "\n",
        "## Custom Environments\n",
        "\n",
        "**[fetch](https://github.com/google/brax/blob/main/brax/envs/fetch.py)**: make a three-dimensional dog chase after a moving target.\n",
        "\n",
        "**[grasp](https://github.com/google/brax/blob/main/brax/envs/grasp.py)**: a grabber hand must pick up a ball and carry it to a moving target.\n",
        "\n",
        "**[ur5e](https://github.com/google/brax/blob/main/brax/envs/ur5e.py)**: a ur5e robot arm that moves its end effector to a series of targets.\n",
        "\n"
      ]
    },
    {
      "cell_type": "code",
      "execution_count": null,
      "metadata": {
        "colab": {
          "base_uri": "https://localhost:8080/",
          "height": 480
        },
        "id": "NaJDZqhCLovU",
        "outputId": "59b55bae-8f9f-4950-d64e-724adbb15843"
      },
      "outputs": [],
      "source": [
        "#@title Visualizing pre-included Brax environments { run: \"auto\" }\n",
        "#@markdown Select an environment to preview it below:\n",
        "\n",
        "environment = \"ant\"  # @param ['ant', 'halfcheetah', 'hopper', 'humanoid', 'reacher', 'walker2d', 'fetch', 'grasp', 'ur5e']\n",
        "env = envs.create(env_name=environment)\n",
        "state = env.reset(rng=jp.random_prngkey(seed=0))\n",
        "\n",
        "HTML(html.render(env.sys, [state.qp]))"
      ]
    },
    {
      "cell_type": "markdown",
      "metadata": {
        "id": "5Aj2VWIYiy8U"
      },
      "source": [
        "# Stepping and Jitting Environments\n",
        "\n",
        "We operate environments via `env.step`:\n",
        "\n",
        "$$\n",
        "\\text{state}_{t+1} = \\text{env.step}(\\text{state}_t, \\text{action})\n",
        "$$\n",
        "\n",
        "\n",
        "The state returned by `env.step` contains:\n",
        "* the physics state `QP`\n",
        "* the observation vector\n",
        "* reward\n",
        "* whether the environment is done and needs to be reset\n",
        "* other useful metrics.\n",
        "\n",
        "By calling `env.step` in sequence we produce a rollout:"
      ]
    },
    {
      "cell_type": "code",
      "execution_count": null,
      "metadata": {
        "colab": {
          "base_uri": "https://localhost:8080/"
        },
        "id": "wkfRXCMzjEhb",
        "outputId": "8ad5e1be-ce2a-4ca4-e234-349c9b67815d"
      },
      "outputs": [],
      "source": [
        "%%time\n",
        "rollout = []\n",
        "for i in range(100):\n",
        "  # wiggle sinusoidally with a phase shift per actuator\n",
        "  action = jp.sin(i * jp.pi / 15 + jp.arange(0, env.action_size) * jp.pi)\n",
        "  state = env.step(state, action)\n",
        "  rollout.append(state)"
      ]
    },
    {
      "cell_type": "markdown",
      "metadata": {
        "id": "vfYBoqYcj7Ks"
      },
      "source": [
        "In order to train policies quickly, we use [JAX](https://github.com/google/jax) to jit compile the `env.step`: "
      ]
    },
    {
      "cell_type": "code",
      "execution_count": null,
      "metadata": {
        "id": "LVY6_GZb8sNY"
      },
      "outputs": [],
      "source": [
        "# jit compile env.step:\n",
        "jit_env_step = jax.jit(env.step)\n",
        "state = jit_env_step(state, jnp.ones((env.action_size,)))"
      ]
    },
    {
      "cell_type": "markdown",
      "metadata": {
        "id": "W0ePyMms8tk7"
      },
      "source": [
        "After `env.step` has been compiled, it runs much faster:"
      ]
    },
    {
      "cell_type": "code",
      "execution_count": null,
      "metadata": {
        "colab": {
          "base_uri": "https://localhost:8080/"
        },
        "id": "VaNCNhiBldVo",
        "outputId": "31db5aca-b97e-4f76-f1eb-19fb7db953a6"
      },
      "outputs": [],
      "source": [
        "%%time\n",
        "for _ in range(100):\n",
        "  state = jit_env_step(state, jnp.ones((env.action_size,)))"
      ]
    },
    {
      "cell_type": "markdown",
      "metadata": {
        "id": "5eAUGynBqUc7"
      },
      "source": [
        "# Visualizing Rollouts\n",
        "\n",
        "Brax provides two handy ways to visualize environment rollouts.  The first is an HTML visualizer:"
      ]
    },
    {
      "cell_type": "code",
      "execution_count": null,
      "metadata": {
        "colab": {
          "base_uri": "https://localhost:8080/",
          "height": 480
        },
        "id": "eoq4YTZ2qyVc",
        "outputId": "eccde12f-d66d-463f-c51e-655405c6b65c"
      },
      "outputs": [],
      "source": [
        "HTML(html.render(env.sys, [s.qp for s in rollout]))"
      ]
    },
    {
      "cell_type": "markdown",
      "metadata": {
        "id": "OAXQgtYirDX0"
      },
      "source": [
        "The second is an image visualizer that produces animated GIFs or PNGs:"
      ]
    },
    {
      "cell_type": "code",
      "execution_count": null,
      "metadata": {
        "colab": {
          "base_uri": "https://localhost:8080/",
          "height": 257
        },
        "id": "sz5c_Vg2g0r7",
        "outputId": "fd4bb472-e133-41d1-897c-e86b7b61bb29"
      },
      "outputs": [],
      "source": [
        "# Image(image.render(env.sys, [s.qp for s in rollout], width=320, height=240))"
      ]
    },
    {
      "cell_type": "markdown",
      "metadata": {
        "id": "gTN3YNpKra8L"
      },
      "source": [
        "# OpenAI Gym Wrapper + PyTorch\n",
        "\n",
        "Brax environments can converted to Gym environments, using either [GymWrapper](https://github.com/google/brax/blob/main/brax/envs/wrappers.py) for single environments, or [VectorGymWrapper](https://github.com/google/brax/blob/main/brax/envs/wrappers.py) for batched (parallelized) environments.  Gym-wrapped Brax environments are jit-compiled, and can interoperate with (and share accelerator resources with) other learning frameworks such as PyTorch."
      ]
    },
    {
      "cell_type": "code",
      "execution_count": null,
      "metadata": {
        "colab": {
          "base_uri": "https://localhost:8080/"
        },
        "id": "gvA1R3DpsxBs",
        "outputId": "69b61a23-4cb4-486d-feba-e7bd5de2bb65"
      },
      "outputs": [],
      "source": [
        "entry_point = functools.partial(envs.create_gym_env, env_name='ant')\n",
        "if 'brax-ant-v0' not in gym.envs.registry.env_specs:\n",
        "  gym.register('brax-ant-v0', entry_point=entry_point)\n",
        "\n",
        "# create a gym environment that contains 4096 parallel ant environments\n",
        "gym_env = gym.make(\"brax-ant-v0\", batch_size=4096)\n",
        "\n",
        "# wrap it to interoperate with torch data structures\n",
        "gym_env = to_torch.JaxToTorchWrapper(gym_env, device='cuda')\n",
        "\n",
        "# jit compile env.reset\n",
        "obs = gym_env.reset()\n",
        "\n",
        "# jit compile env.step\n",
        "action = torch.rand(gym_env.action_space.shape, device='cuda') * 2 - 1\n",
        "obs, reward, done, info = gym_env.step(action)"
      ]
    },
    {
      "cell_type": "markdown",
      "metadata": {
        "id": "uhXM3FY47_2n"
      },
      "source": [
        "Here, we generate a rollout using our Gym wrapper with PyTorch data:"
      ]
    },
    {
      "cell_type": "code",
      "execution_count": null,
      "metadata": {
        "colab": {
          "base_uri": "https://localhost:8080/"
        },
        "id": "JR1vEFf263z6",
        "outputId": "a47c09ad-bf66-4f85-86d8-f5080be07a8e"
      },
      "outputs": [],
      "source": [
        "before = time.time()\n",
        "\n",
        "for _ in range(100):\n",
        "  action = torch.rand(gym_env.action_space.shape, device='cuda') * 2 - 1\n",
        "  obs, rewards, done, info = gym_env.step(action)\n",
        "\n",
        "duration = time.time() - before\n",
        "print(f'time for {409600} steps: {duration:.2f}s ({int(409600 / duration)} steps/sec)')"
      ]
    },
    {
      "cell_type": "markdown",
      "metadata": {
        "id": "fe6Pw3J5-_OH"
      },
      "source": [
        "Ciao! 👋"
      ]
    }
  ],
  "metadata": {
    "accelerator": "GPU",
    "colab": {
      "name": "Brax Environments.ipynb",
      "provenance": []
    },
    "kernelspec": {
      "display_name": "env",
      "language": "python",
      "name": "python3"
    },
    "language_info": {
      "codemirror_mode": {
        "name": "ipython",
        "version": 3
      },
      "file_extension": ".py",
      "mimetype": "text/x-python",
      "name": "python",
      "nbconvert_exporter": "python",
      "pygments_lexer": "ipython3",
      "version": "3.6.13"
    },
    "vscode": {
      "interpreter": {
        "hash": "051dc6973e7d6c07c8d4c6a1a0efc7d8900d8d86bb1f02f49189d45600012468"
      }
    }
  },
  "nbformat": 4,
  "nbformat_minor": 0
}
